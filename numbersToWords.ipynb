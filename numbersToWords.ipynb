{
 "cells": [
  {
   "cell_type": "code",
   "execution_count": null,
   "id": "bc7dbb82",
   "metadata": {},
   "outputs": [],
   "source": [
    "baseNos = {1 :'one',2: 'two', 3: 'three',4: 'four',5: 'five',6: 'six',7: 'seven',8: 'eight',9: 'nine',10: 'ten',11:'eleven',\n",
    "          12:'twelve',13:'thirteen',14:'fourteen',15:'fifteen',16:'sixteen',17:'seventeen',18:'eighteen',19:'nineteen',\n",
    "          20:'twenty',30:'thirty',40:'forty',50:'fifty',60:'sixty',70:'seventy',80:'eighty',90:'ninety',100:'hundered',\n",
    "          1000:'thousand'}\n",
    "\n",
    "wordlst = []  ## list of number words to make word string"
   ]
  },
  {
   "cell_type": "code",
   "execution_count": null,
   "id": "914b47a7",
   "metadata": {},
   "outputs": [],
   "source": [
    "## input number\n",
    "n = int(input('Enter numbeer Between 1 to 9999:'))\n",
    "\n",
    "if n>9999 or n<1:\n",
    "    print(\"Sorry, no number below zero or greater than 9999\")\n",
    "    exit()"
   ]
  },
  {
   "cell_type": "code",
   "execution_count": null,
   "id": "8155a1c3",
   "metadata": {},
   "outputs": [],
   "source": [
    "## check number present in baseNos list or not if present append in wordlst\n",
    "def check(m):\n",
    "    if m in baseNos:\n",
    "        wordlst.append(baseNos.get(m))\n",
    "        print(baseNos.get(m))\n",
    "        return True\n",
    "    else:\n",
    "        print(\"error\")\n",
    "        return False"
   ]
  },
  {
   "cell_type": "code",
   "execution_count": null,
   "id": "5b44fa19",
   "metadata": {},
   "outputs": [],
   "source": [
    "def find(tens,n):\n",
    "    r=n\n",
    "    while(tens!=1):\n",
    "        if tens == 10:\n",
    "            if check(r):\n",
    "                print(\"hello\")\n",
    "                return\n",
    "            else:\n",
    "                m=r//tens\n",
    "                check(m*10)\n",
    "                \n",
    "            r=r%tens\n",
    "            tens=tens//10\n",
    "            break\n",
    "        else:\n",
    "            m=r//tens\n",
    "            if check(m):\n",
    "                check(tens)\n",
    "            r=r%tens\n",
    "            tens=tens//10\n",
    "    check(r)\n"
   ]
  },
  {
   "cell_type": "code",
   "execution_count": null,
   "id": "95c6dd24",
   "metadata": {},
   "outputs": [],
   "source": [
    "## to convert numbers into digits in tens\n",
    "def convertDigits(m,n):\n",
    "    tens = 1\n",
    "    m -= 1\n",
    "    while(m):\n",
    "        m-=1\n",
    "        tens *= 10\n",
    "    find(tens,n)\n",
    "    "
   ]
  },
  {
   "cell_type": "code",
   "execution_count": null,
   "id": "5da61553",
   "metadata": {},
   "outputs": [],
   "source": [
    "## get number of digits\n",
    "def getDigits(n):\n",
    "    m=n\n",
    "    digitCount=0\n",
    "    while(m!=0):\n",
    "        m=m//10\n",
    "        digitCount+=1\n",
    "    \n",
    "    return digitCount"
   ]
  },
  {
   "cell_type": "code",
   "execution_count": null,
   "id": "799a0832",
   "metadata": {},
   "outputs": [],
   "source": [
    "convertDigits(getDigits(n),n)"
   ]
  },
  {
   "cell_type": "code",
   "execution_count": null,
   "id": "66ac734f",
   "metadata": {},
   "outputs": [],
   "source": [
    "intoWords = ' '.join(wordlst)\n",
    "print(intoWords)"
   ]
  },
  {
   "cell_type": "code",
   "execution_count": null,
   "id": "53aaea7a",
   "metadata": {},
   "outputs": [],
   "source": []
  }
 ],
 "metadata": {
  "kernelspec": {
   "display_name": "Python 3 (ipykernel)",
   "language": "python",
   "name": "python3"
  },
  "language_info": {
   "codemirror_mode": {
    "name": "ipython",
    "version": 3
   },
   "file_extension": ".py",
   "mimetype": "text/x-python",
   "name": "python",
   "nbconvert_exporter": "python",
   "pygments_lexer": "ipython3",
   "version": "3.10.6"
  }
 },
 "nbformat": 4,
 "nbformat_minor": 5
}
