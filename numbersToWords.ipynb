{
 "cells": [
  {
   "cell_type": "code",
   "execution_count": 1,
   "id": "bc7dbb82",
   "metadata": {},
   "outputs": [],
   "source": [
    "baseNos = {1 :'one',2: 'two', 3: 'three',4: 'four',5: 'five',6: 'six',7: 'seven',8: 'eight',9: 'nine',10: 'ten',11:'eleven',\n",
    "          12:'twelve',13:'thirteen',14:'fourteen',15:'fifteen',16:'sixteen',17:'seventeen',18:'eighteen',19:'nineteen',\n",
    "          20:'twenty',30:'thirty',40:'forty',50:'fifty',60:'sixty',70:'seventy',80:'eighty',90:'ninety',100:'hundered',\n",
    "          1000:'thousand'}\n",
    "\n",
    "wordlst = []"
   ]
  },
  {
   "cell_type": "code",
   "execution_count": 2,
   "id": "8155a1c3",
   "metadata": {},
   "outputs": [],
   "source": [
    "def check(m):\n",
    "    if m in baseNos:\n",
    "        wordlst.append(baseNos.get(m))\n",
    "        print(baseNos.get(m))\n",
    "    else:\n",
    "        print(\"error\")\n",
    "    return"
   ]
  },
  {
   "cell_type": "code",
   "execution_count": 3,
   "id": "aeecc8b5",
   "metadata": {},
   "outputs": [],
   "source": [
    "def find(no,n):\n",
    "    r=n\n",
    "    while(no!=1):\n",
    "        if no == 10 or no == 1:\n",
    "            print(r)\n",
    "            print(no)\n",
    "            m=r//no\n",
    "            check(m*10)\n",
    "            r=r%no\n",
    "            no=no//10\n",
    "            print(r)\n",
    "            print(no)\n",
    "        else:\n",
    "            m=r//no\n",
    "            check(m)\n",
    "            r=r%no\n",
    "            check(no)\n",
    "            no=no//10\n"
   ]
  },
  {
   "cell_type": "code",
   "execution_count": 4,
   "id": "95c6dd24",
   "metadata": {},
   "outputs": [],
   "source": [
    "## to convert numbers into digits\n",
    "def convertDigits(m,n):\n",
    "    no = 1\n",
    "    m -= 1\n",
    "    while(m):\n",
    "        m-=1\n",
    "        no *= 10\n",
    "    find(no,n)\n",
    "    "
   ]
  },
  {
   "cell_type": "code",
   "execution_count": 5,
   "id": "5da61553",
   "metadata": {},
   "outputs": [
    {
     "name": "stdout",
     "output_type": "stream",
     "text": [
      "five\n",
      "thousand\n",
      "five\n",
      "hundered\n",
      "61\n",
      "10\n",
      "sixty\n",
      "1\n",
      "1\n"
     ]
    }
   ],
   "source": [
    "def getDigits(n):\n",
    "    m=n\n",
    "    digitCount=0\n",
    "    while(m!=0):\n",
    "        m=m//10\n",
    "        digitCount+=1\n",
    "        \n",
    "    convertDigits(digitCount,n)\n",
    "\n",
    "getDigits(5561)"
   ]
  },
  {
   "cell_type": "code",
   "execution_count": 6,
   "id": "49038669",
   "metadata": {},
   "outputs": [
    {
     "name": "stdout",
     "output_type": "stream",
     "text": [
      "['five', 'thousand', 'five', 'hundered', 'sixty']\n"
     ]
    }
   ],
   "source": [
    "print(wordlst)"
   ]
  },
  {
   "cell_type": "code",
   "execution_count": null,
   "id": "089e8047",
   "metadata": {},
   "outputs": [],
   "source": []
  }
 ],
 "metadata": {
  "kernelspec": {
   "display_name": "Python 3 (ipykernel)",
   "language": "python",
   "name": "python3"
  },
  "language_info": {
   "codemirror_mode": {
    "name": "ipython",
    "version": 3
   },
   "file_extension": ".py",
   "mimetype": "text/x-python",
   "name": "python",
   "nbconvert_exporter": "python",
   "pygments_lexer": "ipython3",
   "version": "3.10.6"
  }
 },
 "nbformat": 4,
 "nbformat_minor": 5
}
